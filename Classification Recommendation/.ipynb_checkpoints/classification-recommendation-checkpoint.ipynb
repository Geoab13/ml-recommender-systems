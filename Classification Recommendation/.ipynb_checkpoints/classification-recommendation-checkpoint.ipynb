{
 "cells": [
  {
   "cell_type": "markdown",
   "metadata": {},
   "source": [
    "# Classification-based Collaborative Filtering Systems"
   ]
  },
  {
   "cell_type": "code",
   "execution_count": null,
   "metadata": {},
   "outputs": [],
   "source": [
    "import pandas as pd\n",
    "import numpy as np\n",
    "import tensorflow as tf\n",
    "from tensorflow import keras\n",
    "from sklearn.ensemble import RandomForestClassifier\n",
    "from sklearn.model_selection import train_test_split"
   ]
  },
  {
   "cell_type": "markdown",
   "metadata": {},
   "source": [
    "This bank marketing dataset is open-sourced and available for download at the UCI Machine Learning Repository (https://archive.ics.uci.edu/ml/datasets/Bank+Marketing#). However, this specific dataset have only replaced some of the categorical data with dummy variables for conceptual demonstration purposes. Other variable transformation methods might be more suitable along with the inclusion of more descriptive variables.\n",
    "\n",
    "The data is related with direct marketing campaigns (phone calls) of a Portuguese banking institution. The classification goal is to predict if the client will subscribe a term deposit (variable y).\n",
    "\n",
    "It was originally created by: [Moro et al., 2014] S. Moro, P. Cortez and P. Rita. A Data-Driven Approach to Predict the Success of Bank Telemarketing. Decision Support Systems, Elsevier, 62:22-31, June 2014"
   ]
  },
  {
   "cell_type": "code",
   "execution_count": null,
   "metadata": {
    "scrolled": true
   },
   "outputs": [],
   "source": [
    "bank_clients = pd.read_csv('../data/bank_full_w_dummy_vars.csv')\n",
    "with pd.option_context('display.max_rows', 10, 'display.max_columns', None):\n",
    "    display(bank_clients)"
   ]
  },
  {
   "cell_type": "markdown",
   "metadata": {},
   "source": [
    "Extracting binary features from columns 18 to 36 and binary targets from column 17 (all transormed variables are in column 17 to 36)."
   ]
  },
  {
   "cell_type": "code",
   "execution_count": null,
   "metadata": {},
   "outputs": [],
   "source": [
    "train_features = bank_clients.iloc[0:40000,18:]\n",
    "val_features = bank_clients.iloc[40000:,18:]\n",
    "train_targets = bank_clients.iloc[0:40000,17]\n",
    "#train_targets = pd.get_dummies(train_targets)\n",
    "val_targets = bank_clients.iloc[40000:,17]\n",
    "#val_targets = pd.get_dummies(val_targets)"
   ]
  },
  {
   "cell_type": "markdown",
   "metadata": {},
   "source": [
    "## Simple neural network classification"
   ]
  },
  {
   "cell_type": "code",
   "execution_count": 8,
   "metadata": {},
   "outputs": [],
   "source": [
    "model = keras.models.Sequential([\n",
    "    keras.layers.Dense(50, input_dim=19, activation=tf.nn.relu, name='Input'),\n",
    "    keras.layers.Dense(100, activation=tf.nn.relu, name='layer_2'),\n",
    "    keras.layers.Dense(50, activation=tf.nn.relu, name='layer_3'),\n",
    "    keras.layers.Dense(2, activation=tf.nn.softmax, name='layer_output')\n",
    "])\n",
    "model.compile(loss='sparse_categorical_crossentropy', optimizer='adam', metrics=['accuracy'])"
   ]
  },
  {
   "cell_type": "raw",
   "metadata": {},
   "source": [
    "Generate log files for TensorBoard."
   ]
  },
  {
   "cell_type": "code",
   "execution_count": null,
   "metadata": {},
   "outputs": [],
   "source": [
    "logger = keras.callbacks.TensorBoard(\n",
    "    log_dir='keras_log',\n",
    "    write_graph=True,\n",
    "    histogram_freq=1\n",
    ")"
   ]
  },
  {
   "cell_type": "code",
   "execution_count": null,
   "metadata": {},
   "outputs": [],
   "source": []
  },
  {
   "cell_type": "code",
   "execution_count": 10,
   "metadata": {},
   "outputs": [
    {
     "name": "stdout",
     "output_type": "stream",
     "text": [
      "Train on 40000 samples, validate on 5211 samples\n",
      "Epoch 1/20\n",
      "40000/40000 [==============================] - 6s 162us/step - loss: 0.2609 - acc: 0.9269 - val_loss: 1.0926 - val_acc: 0.5408\n",
      "Epoch 2/20\n",
      "40000/40000 [==============================] - 6s 158us/step - loss: 0.2543 - acc: 0.9276 - val_loss: 0.9009 - val_acc: 0.5573\n",
      "Epoch 3/20\n",
      "40000/40000 [==============================] - 5s 129us/step - loss: 0.2540 - acc: 0.9277 - val_loss: 0.9902 - val_acc: 0.5408\n",
      "Epoch 4/20\n",
      "40000/40000 [==============================] - 6s 151us/step - loss: 0.2535 - acc: 0.9279 - val_loss: 1.0091 - val_acc: 0.5690\n",
      "Epoch 5/20\n",
      "40000/40000 [==============================] - 5s 113us/step - loss: 0.2529 - acc: 0.9276 - val_loss: 0.9481 - val_acc: 0.5408\n",
      "Epoch 6/20\n",
      "40000/40000 [==============================] - 4s 101us/step - loss: 0.2529 - acc: 0.9277 - val_loss: 0.9850 - val_acc: 0.5724\n",
      "Epoch 7/20\n",
      "40000/40000 [==============================] - 4s 103us/step - loss: 0.2530 - acc: 0.9278 - val_loss: 0.9840 - val_acc: 0.5408\n",
      "Epoch 8/20\n",
      "40000/40000 [==============================] - 5s 122us/step - loss: 0.2524 - acc: 0.9279 - val_loss: 0.9109 - val_acc: 0.5820\n",
      "Epoch 9/20\n",
      "40000/40000 [==============================] - 5s 114us/step - loss: 0.2523 - acc: 0.9278 - val_loss: 0.9268 - val_acc: 0.5836\n",
      "Epoch 10/20\n",
      "40000/40000 [==============================] - 4s 89us/step - loss: 0.2520 - acc: 0.9278 - val_loss: 0.9476 - val_acc: 0.6152\n",
      "Epoch 11/20\n",
      "40000/40000 [==============================] - 4s 111us/step - loss: 0.2521 - acc: 0.9278 - val_loss: 0.9334 - val_acc: 0.5960\n",
      "Epoch 12/20\n",
      "40000/40000 [==============================] - 4s 92us/step - loss: 0.2516 - acc: 0.9280 - val_loss: 0.9353 - val_acc: 0.5884\n",
      "Epoch 13/20\n",
      "40000/40000 [==============================] - 4s 90us/step - loss: 0.2517 - acc: 0.9279 - val_loss: 0.9355 - val_acc: 0.5838\n",
      "Epoch 14/20\n",
      "40000/40000 [==============================] - 4s 97us/step - loss: 0.2515 - acc: 0.9279 - val_loss: 0.9095 - val_acc: 0.5897\n",
      "Epoch 15/20\n",
      "40000/40000 [==============================] - 4s 102us/step - loss: 0.2512 - acc: 0.9278 - val_loss: 0.9501 - val_acc: 0.5807\n",
      "Epoch 16/20\n",
      "40000/40000 [==============================] - 3s 86us/step - loss: 0.2511 - acc: 0.9280 - val_loss: 0.8795 - val_acc: 0.5847\n",
      "Epoch 17/20\n",
      "40000/40000 [==============================] - 3s 85us/step - loss: 0.2511 - acc: 0.9278 - val_loss: 0.9096 - val_acc: 0.5889\n",
      "Epoch 18/20\n",
      "40000/40000 [==============================] - 3s 87us/step - loss: 0.2510 - acc: 0.9279 - val_loss: 0.9014 - val_acc: 0.5799\n",
      "Epoch 19/20\n",
      "40000/40000 [==============================] - 3s 86us/step - loss: 0.2509 - acc: 0.9279 - val_loss: 0.9622 - val_acc: 0.5899\n",
      "Epoch 20/20\n",
      "40000/40000 [==============================] - 4s 94us/step - loss: 0.2508 - acc: 0.9279 - val_loss: 0.9303 - val_acc: 0.5905\n"
     ]
    },
    {
     "data": {
      "text/plain": [
       "<tensorflow.python.keras.callbacks.History at 0x25ed815a940>"
      ]
     },
     "execution_count": 10,
     "metadata": {},
     "output_type": "execute_result"
    }
   ],
   "source": [
    "model.fit(\n",
    "    train_features,\n",
    "    train_targets,\n",
    "    epochs=20,\n",
    "    shuffle=True,\n",
    "    validation_data=(val_features, val_targets),\n",
    "    callbacks=[logger]\n",
    "    )"
   ]
  },
  {
   "cell_type": "markdown",
   "metadata": {},
   "source": [
    "## Random forrest tree classification"
   ]
  },
  {
   "cell_type": "code",
   "execution_count": 16,
   "metadata": {},
   "outputs": [],
   "source": [
    "rf = RandomForestClassifier(random_state = 42)  # random_state is the seed used by the random number generator\n",
    "#fitting the model\n",
    "model_rf = rf.fit(train_features, train_targets)"
   ]
  },
  {
   "cell_type": "code",
   "execution_count": 17,
   "metadata": {},
   "outputs": [
    {
     "data": {
      "text/plain": [
       "0.5828056035309921"
      ]
     },
     "execution_count": 17,
     "metadata": {},
     "output_type": "execute_result"
    }
   ],
   "source": [
    "model_rf.score(val_features, val_targets) #accuracy measurement"
   ]
  },
  {
   "cell_type": "markdown",
   "metadata": {},
   "source": [
    "## logistic regression w keras"
   ]
  },
  {
   "cell_type": "code",
   "execution_count": 18,
   "metadata": {},
   "outputs": [],
   "source": [
    "model = keras.models.Sequential([\n",
    "    keras.layers.Dense(2, input_dim=19, activation=tf.nn.softmax)\n",
    "])\n",
    "model.compile(loss='sparse_categorical_crossentropy', optimizer='sgd', metrics=['accuracy'])"
   ]
  },
  {
   "cell_type": "code",
   "execution_count": 19,
   "metadata": {},
   "outputs": [],
   "source": []
  },
  {
   "cell_type": "code",
   "execution_count": 21,
   "metadata": {},
   "outputs": [
    {
     "name": "stdout",
     "output_type": "stream",
     "text": [
      "Train on 40000 samples, validate on 5211 samples\n",
      "Epoch 1/20\n",
      "40000/40000 [==============================] - 2s 48us/step - loss: 0.2590 - acc: 0.9276 - val_loss: 0.9521 - val_acc: 0.5406\n",
      "Epoch 2/20\n",
      "40000/40000 [==============================] - 2s 45us/step - loss: 0.2558 - acc: 0.9277 - val_loss: 0.9483 - val_acc: 0.5431\n",
      "Epoch 3/20\n",
      "40000/40000 [==============================] - 2s 44us/step - loss: 0.2547 - acc: 0.9278 - val_loss: 0.9393 - val_acc: 0.5488\n",
      "Epoch 4/20\n",
      "40000/40000 [==============================] - 2s 45us/step - loss: 0.2542 - acc: 0.9278 - val_loss: 0.9310 - val_acc: 0.5494\n",
      "Epoch 5/20\n",
      "40000/40000 [==============================] - 2s 44us/step - loss: 0.2538 - acc: 0.9277 - val_loss: 0.9358 - val_acc: 0.5494\n",
      "Epoch 6/20\n",
      "40000/40000 [==============================] - 2s 45us/step - loss: 0.2536 - acc: 0.9278 - val_loss: 0.9347 - val_acc: 0.5504\n",
      "Epoch 7/20\n",
      "40000/40000 [==============================] - 2s 45us/step - loss: 0.2534 - acc: 0.9277 - val_loss: 0.9395 - val_acc: 0.5492\n",
      "Epoch 8/20\n",
      "40000/40000 [==============================] - 2s 45us/step - loss: 0.2532 - acc: 0.9278 - val_loss: 0.9320 - val_acc: 0.5492\n",
      "Epoch 9/20\n",
      "40000/40000 [==============================] - 2s 48us/step - loss: 0.2532 - acc: 0.9278 - val_loss: 0.9423 - val_acc: 0.5492\n",
      "Epoch 10/20\n",
      "40000/40000 [==============================] - 2s 44us/step - loss: 0.2531 - acc: 0.9278 - val_loss: 0.9349 - val_acc: 0.5492\n",
      "Epoch 11/20\n",
      "40000/40000 [==============================] - 2s 46us/step - loss: 0.2530 - acc: 0.9278 - val_loss: 0.9226 - val_acc: 0.5584\n",
      "Epoch 12/20\n",
      "40000/40000 [==============================] - 2s 45us/step - loss: 0.2530 - acc: 0.9277 - val_loss: 0.9379 - val_acc: 0.5492\n",
      "Epoch 13/20\n",
      "40000/40000 [==============================] - 2s 44us/step - loss: 0.2529 - acc: 0.9278 - val_loss: 0.9495 - val_acc: 0.5492\n",
      "Epoch 14/20\n",
      "40000/40000 [==============================] - 2s 47us/step - loss: 0.2529 - acc: 0.9279 - val_loss: 0.9381 - val_acc: 0.5492\n",
      "Epoch 15/20\n",
      "40000/40000 [==============================] - 2s 49us/step - loss: 0.2529 - acc: 0.9278 - val_loss: 0.9192 - val_acc: 0.5621\n",
      "Epoch 16/20\n",
      "40000/40000 [==============================] - 2s 47us/step - loss: 0.2529 - acc: 0.9277 - val_loss: 0.9238 - val_acc: 0.5605\n",
      "Epoch 17/20\n",
      "40000/40000 [==============================] - 2s 45us/step - loss: 0.2528 - acc: 0.9278 - val_loss: 0.9255 - val_acc: 0.5605\n",
      "Epoch 18/20\n",
      "40000/40000 [==============================] - 2s 46us/step - loss: 0.2528 - acc: 0.9279 - val_loss: 0.9296 - val_acc: 0.5513\n",
      "Epoch 19/20\n",
      "40000/40000 [==============================] - 2s 45us/step - loss: 0.2528 - acc: 0.9278 - val_loss: 0.9269 - val_acc: 0.5498\n",
      "Epoch 20/20\n",
      "40000/40000 [==============================] - 2s 45us/step - loss: 0.2528 - acc: 0.9278 - val_loss: 0.9264 - val_acc: 0.5621\n"
     ]
    },
    {
     "data": {
      "text/plain": [
       "<tensorflow.python.keras.callbacks.History at 0x25edd35a240>"
      ]
     },
     "execution_count": 21,
     "metadata": {},
     "output_type": "execute_result"
    }
   ],
   "source": [
    "model.fit(\n",
    "    train_features,\n",
    "    train_targets,\n",
    "    epochs=20,\n",
    "    shuffle=True,\n",
    "    validation_data=(val_features, val_targets)\n",
    "    )"
   ]
  }
 ],
 "metadata": {
  "kernelspec": {
   "display_name": "Python 3",
   "language": "python",
   "name": "python3"
  },
  "language_info": {
   "codemirror_mode": {
    "name": "ipython",
    "version": 3
   },
   "file_extension": ".py",
   "mimetype": "text/x-python",
   "name": "python",
   "nbconvert_exporter": "python",
   "pygments_lexer": "ipython3",
   "version": "3.6.6"
  }
 },
 "nbformat": 4,
 "nbformat_minor": 2
}
